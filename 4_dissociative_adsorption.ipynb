{
 "cells": [
  {
   "cell_type": "markdown",
   "metadata": {},
   "source": [
    "## Part 4 Dissociative adsorption\n",
    "\n",
    "\n",
    "Supervisor: Prof. Aschauer\n",
    "\n",
    "Assistants: Dr. Xing Wang\n",
    "\n",
    "Room:\tN216"
   ]
  },
  {
   "source": [
    "### 1. Introduction\n",
    "Dissociation of NH$_3$ can forms adsorbed NH$_2$, NH, N and H fragments. We will try the configurations with the N atoms about 1Å above the follwoing surface sites:\n",
    "\n",
    "* at the top site (La, Ti)\n",
    "* at the bridge site between La and Ti atoms\n",
    "\n",
    "And H fragment 1Å above the O site."
   ],
   "cell_type": "markdown",
   "metadata": {}
  },
  {
   "source": [
    "# read optmized surface \n",
    "from xespresso import Espresso\n",
    "from x3dase.visualize import view_x3d_n\n",
    "from ase.visualize import view\n",
    "\n",
    "# read the optmized La2Ti2O7 surface\n",
    "slab_opt =  Espresso(label = 'surface/lto-010').results['atoms']\n",
    "view(slab_opt)\n",
    "# set adsorption site on the slab\n",
    "positions = slab_opt.get_scaled_positions()\n",
    "sites = {\n",
    "    'Ti-top': positions[51][0:2], # the (x, y) position of the atom 51 in the slab\n",
    "    'O-top': positions[56][0:2], \n",
    "    'La-top': positions[41][0:2], \n",
    "    'Ti-La-bridge': (positions[56][0:2] + positions[45][0:2])/2.0,\n",
    "    }\n",
    "slab_opt.info['adsorbate_info'] = {'sites': sites}"
   ],
   "cell_type": "code",
   "metadata": {},
   "execution_count": null,
   "outputs": []
  },
  {
   "source": [
    "Is there other posible adsorption sites and geometries?\n",
    "\n",
    "Now we build the fragments."
   ],
   "cell_type": "markdown",
   "metadata": {}
  },
  {
   "source": [
    "from ase.build import molecule, add_adsorbate\n",
    "from ase.atoms import Atoms\n",
    "from ase.visualize import view\n",
    "\n",
    "nh3 = molecule('NH3')\n",
    "nh3.rotate(180, 'x')\n",
    "nh2 = nh3.copy()\n",
    "del nh2[-1]\n",
    "nh = nh2.copy()\n",
    "del nh[-1]\n",
    "n = Atoms('N')\n",
    "h = Atoms('H')\n",
    "fragments = {\n",
    "'nh2': nh2,\n",
    "'nh': nh,\n",
    "'n': n,\n",
    "'h': h,\n",
    "}\n",
    "view(fragments.values())"
   ],
   "cell_type": "code",
   "metadata": {},
   "execution_count": null,
   "outputs": []
  },
  {
   "cell_type": "markdown",
   "metadata": {},
   "source": [
    "Now we add fragments on the adsorption sites. Please write the code for building and running the structures."
   ]
  },
  {
   "source": [
    "### 2. Calculation the adsorption energy\n",
    "The adsorption energy is given by\n",
    "\n",
    "$\\Delta E_{ads} = E_{surf + ads} - (E_{surf} + E_{ads})$\n",
    "\n",
    "where $E_{surf + ads}$ is the energy of the surface with the adsorbate (NH$_x$), $E_{surf}$ is the energy of the clean surface and $E_{ads}$ is the energy of the adsorbate.\n",
    "\n",
    "In order to get the energy of adsorbate (E_nh2, E_nh, E_n and E_h), we have to define a reference state, for example the NH$_3$ and H$_2$ molecules. Please discuss with me when you are doing this.\n",
    "\n"
   ],
   "cell_type": "markdown",
   "metadata": {}
  }
 ],
 "metadata": {
  "kernelspec": {
   "display_name": "Python 3",
   "language": "python",
   "name": "python3"
  },
  "language_info": {
   "codemirror_mode": {
    "name": "ipython",
    "version": 3
   },
   "file_extension": ".py",
   "mimetype": "text/x-python",
   "name": "python",
   "nbconvert_exporter": "python",
   "pygments_lexer": "ipython3",
   "version": "3.8.5-final"
  }
 },
 "nbformat": 4,
 "nbformat_minor": 4
}