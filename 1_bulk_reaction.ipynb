{
 "cells": [
  {
   "cell_type": "markdown",
   "metadata": {},
   "source": [
    "## Part 1 Bulk reaction and phase diagram\n",
    "\n",
    "Supervisor: Prof. Aschauer\n",
    "\n",
    "Assistants: Dr. Xing Wang\n",
    "\n",
    "Room:\tN216"
   ]
  },
  {
   "source": [
    "### 1. Introduction\n",
    "\n",
    "In this part, we will look at the bulk system. In next part we will look at the surface system. The reaction for bulk La$_2$Ti$_2$O$_7$ and gas NH$_3$ can be written as: \n",
    "\n",
    "La$_2$Ti$_2$O$_7$ + 2 NH$_3$ -> LaTiO$_2$N + 3 H$_2$O\n",
    "\n",
    "Therefore, we need to calculate the properties (energyies) of the following phases:\n",
    "* Gas phases: NH$_3$, H$_2$O\n",
    "* Crystalline (bulk) solid phases: La$_2$Ti$_2$O$_7$, LaTiO$_2$N\n",
    "\n"
   ],
   "cell_type": "markdown",
   "metadata": {}
  },
  {
   "source": [
    "### 2. Gas phase\n",
    "\n",
    "You will first calculate the pure molecules: NH$_3$ and H$_2$O. This is the same as calculation for O$_2$, which you have learned in the PC-II practical. Here is the python code for NH$_3$, please build your code for H$_2$O.\n",
    "\n",
    "#### 2.1 NH$_3$\n",
    "\n",
    "First build the atomic structure.\n",
    "\n"
   ],
   "cell_type": "markdown",
   "metadata": {}
  },
  {
   "cell_type": "code",
   "execution_count": 5,
   "metadata": {},
   "outputs": [
    {
     "output_type": "execute_result",
     "data": {
      "text/plain": [
       "<IPython.lib.display.IFrame at 0x7f1bba439580>"
      ],
      "text/html": "\n        <iframe\n            width=\"1000px\"\n            height=\"500px\"\n            src=\"htmls/nh3.html\"\n            frameborder=\"0\"\n            allowfullscreen\n        ></iframe>\n        "
     },
     "metadata": {},
     "execution_count": 5
    }
   ],
   "source": [
    "from ase.build import molecule\n",
    "from x3dase.visualize import view_x3d_n\n",
    "\n",
    "nh3 = molecule('NH3')\n",
    "nh3.cell = [10, 10, 10]       # Unit cell\n",
    "nh3.pbc = [True, True, True]  # We always use the periodic boundary condition for our DFT calculation\n",
    "view_x3d_n(NH3, bond=1.0, label = True, output = 'htmls/nh3.html')"
   ]
  },
  {
   "source": [
    "Then build the Espresso calculator, and carry out a 'relax' calculation."
   ],
   "cell_type": "markdown",
   "metadata": {}
  },
  {
   "cell_type": "code",
   "execution_count": null,
   "metadata": {},
   "outputs": [],
   "source": [
    "from xespresso import Espresso\n",
    "from pseudo import mypseudo\n",
    "\n",
    "# For this small molecule, we use the \"debug\" partition to avoid long waiting time\n",
    "queue = {'ntasks': 20, 'partition': 'debug', 'time': '00:10:00'}\n",
    "\n",
    "calc = Espresso(label = 'molecule/nh3',\n",
    "                pseudopotentials = mypseudo,\n",
    "                calculation = 'relax',   # allow atoms to move\n",
    "                ecutwfc = 40,\n",
    "                occupations = 'smearing',\n",
    "                degauss = 0.01,\n",
    "                kpts = (1, 1, 1),\n",
    "                queue = queue)\n",
    "nh3.calc = calc\n",
    "e = nh3.get_potential_energy()\n",
    "print('Energy {0:3.3f}'.format(, e))"
   ]
  },
  {
   "source": [
    "#### 2.2 H$_2$O\n",
    "Please build your code for H$_2$O"
   ],
   "cell_type": "markdown",
   "metadata": {}
  },
  {
   "cell_type": "code",
   "execution_count": null,
   "metadata": {},
   "outputs": [],
   "source": []
  },
  {
   "cell_type": "code",
   "execution_count": null,
   "metadata": {},
   "outputs": [],
   "source": []
  },
  {
   "cell_type": "markdown",
   "metadata": {},
   "source": []
  },
  {
   "source": [
    "### 3. Bulk solid phases\n",
    "La$_2$Ti$_2$O$_7$, LaTiO$_2$N.\n",
    "\n",
    "#### 3.1 La$_2$Ti$_2$O$_7$\n",
    "We first read the crystal structure.\n"
   ],
   "cell_type": "markdown",
   "metadata": {}
  },
  {
   "cell_type": "code",
   "execution_count": 1,
   "metadata": {},
   "outputs": [
    {
     "output_type": "execute_result",
     "data": {
      "text/plain": [
       "<IPython.lib.display.IFrame at 0x7fac58465bb0>"
      ],
      "text/html": "\n        <iframe\n            width=\"1000px\"\n            height=\"500px\"\n            src=\"htmls/la2ti2o7.html\"\n            frameborder=\"0\"\n            allowfullscreen\n        ></iframe>\n        "
     },
     "metadata": {},
     "execution_count": 1
    }
   ],
   "source": [
    "from ase.io import read\n",
    "from x3dase.visualize import view_x3d_n\n",
    "\n",
    "lto = read('datas/La2Ti2O7.cif')\n",
    "view_x3d_n(lto, bond=1.0, label = True, output = 'htmls/la2ti2o7.html')"
   ]
  },
  {
   "cell_type": "code",
   "execution_count": 2,
   "metadata": {},
   "outputs": [
    {
     "output_type": "stream",
     "name": "stdout",
     "text": [
      "Unit cell: 7.817, 5.598, 13.219\nk-point:   3.2, 4.5, 1.9\n"
     ]
    }
   ],
   "source": [
    " # print the unit cell \n",
    " a, b, c, alpha, beta, gamma = lto.get_cell_lengths_and_angles()\n",
    "print('Unit cell: {0:1.3f}, {1:1.3f}, {2:1.3f}'.format(a, b, c))\n",
    "print('k-point:   {0:1.1f}, {1:1.1f}, {2:1.1f}'.format(25/a, 25/b, 25/c))"
   ]
  },
  {
   "source": [
    "Then build the Espresso calculator. \n",
    "\n",
    "We use nk1×a, nk2×b, nk3×c ~= 25 to set the `k-point`. In the case of La$_2$Ti$_2$O$_7$, a = 7.817, b = 5.598, c = 13.210, thus we set `kpts=(3, 5, 2)`.\n",
    "\n",
    "We need to add a new parameter (`Hubbard_U`) for `Ti` element. DFT+U method is to treat the strong on-site Coulomb interaction of localized electrons ($d$ and $f$ orbitals), which is not correctly described by the GGA functional."
   ],
   "cell_type": "markdown",
   "metadata": {}
  },
  {
   "cell_type": "code",
   "execution_count": 4,
   "metadata": {},
   "outputs": [
    {
     "output_type": "error",
     "ename": "CalculationFailed",
     "evalue": "Calculator \"espresso\" failed with command \"sbatch .job_file\" failed in /home/xing/espresso/bsc-2021-unibe/bulk/lto with error code 127",
     "traceback": [
      "\u001b[0;31m---------------------------------------------------------------------------\u001b[0m",
      "\u001b[0;31mCalculationFailed\u001b[0m                         Traceback (most recent call last)",
      "\u001b[0;32m<ipython-input-4-148887e48b4e>\u001b[0m in \u001b[0;36m<module>\u001b[0;34m\u001b[0m\n\u001b[1;32m     23\u001b[0m                 parallel = '-nk 5',)\n\u001b[1;32m     24\u001b[0m \u001b[0mlto\u001b[0m\u001b[0;34m.\u001b[0m\u001b[0mcalc\u001b[0m \u001b[0;34m=\u001b[0m \u001b[0mcalc\u001b[0m\u001b[0;34m\u001b[0m\u001b[0;34m\u001b[0m\u001b[0m\n\u001b[0;32m---> 25\u001b[0;31m \u001b[0mlto\u001b[0m\u001b[0;34m.\u001b[0m\u001b[0mget_potential_energy\u001b[0m\u001b[0;34m(\u001b[0m\u001b[0;34m)\u001b[0m\u001b[0;34m\u001b[0m\u001b[0;34m\u001b[0m\u001b[0m\n\u001b[0m\u001b[1;32m     26\u001b[0m \u001b[0me\u001b[0m \u001b[0;34m=\u001b[0m \u001b[0mlto\u001b[0m\u001b[0;34m.\u001b[0m\u001b[0mcalc\u001b[0m\u001b[0;34m.\u001b[0m\u001b[0mresults\u001b[0m\u001b[0;34m[\u001b[0m\u001b[0;34m'energy'\u001b[0m\u001b[0;34m]\u001b[0m\u001b[0;34m\u001b[0m\u001b[0;34m\u001b[0m\u001b[0m\n\u001b[1;32m     27\u001b[0m \u001b[0mprint\u001b[0m\u001b[0;34m(\u001b[0m\u001b[0;34m'Energy {0:1.3f}'\u001b[0m\u001b[0;34m.\u001b[0m\u001b[0mformat\u001b[0m\u001b[0;34m(\u001b[0m\u001b[0me\u001b[0m\u001b[0;34m)\u001b[0m\u001b[0;34m)\u001b[0m\u001b[0;34m\u001b[0m\u001b[0;34m\u001b[0m\u001b[0m\n",
      "\u001b[0;32m~/.local/lib/python3.8/site-packages/ase/atoms.py\u001b[0m in \u001b[0;36mget_potential_energy\u001b[0;34m(self, force_consistent, apply_constraint)\u001b[0m\n\u001b[1;32m    731\u001b[0m                 self, force_consistent=force_consistent)\n\u001b[1;32m    732\u001b[0m         \u001b[0;32melse\u001b[0m\u001b[0;34m:\u001b[0m\u001b[0;34m\u001b[0m\u001b[0;34m\u001b[0m\u001b[0m\n\u001b[0;32m--> 733\u001b[0;31m             \u001b[0menergy\u001b[0m \u001b[0;34m=\u001b[0m \u001b[0mself\u001b[0m\u001b[0;34m.\u001b[0m\u001b[0m_calc\u001b[0m\u001b[0;34m.\u001b[0m\u001b[0mget_potential_energy\u001b[0m\u001b[0;34m(\u001b[0m\u001b[0mself\u001b[0m\u001b[0;34m)\u001b[0m\u001b[0;34m\u001b[0m\u001b[0;34m\u001b[0m\u001b[0m\n\u001b[0m\u001b[1;32m    734\u001b[0m         \u001b[0;32mif\u001b[0m \u001b[0mapply_constraint\u001b[0m\u001b[0;34m:\u001b[0m\u001b[0;34m\u001b[0m\u001b[0;34m\u001b[0m\u001b[0m\n\u001b[1;32m    735\u001b[0m             \u001b[0;32mfor\u001b[0m \u001b[0mconstraint\u001b[0m \u001b[0;32min\u001b[0m \u001b[0mself\u001b[0m\u001b[0;34m.\u001b[0m\u001b[0mconstraints\u001b[0m\u001b[0;34m:\u001b[0m\u001b[0;34m\u001b[0m\u001b[0;34m\u001b[0m\u001b[0m\n",
      "\u001b[0;32m~/.local/lib/python3.8/site-packages/ase/calculators/calculator.py\u001b[0m in \u001b[0;36mget_potential_energy\u001b[0;34m(self, atoms, force_consistent)\u001b[0m\n\u001b[1;32m    680\u001b[0m \u001b[0;34m\u001b[0m\u001b[0m\n\u001b[1;32m    681\u001b[0m     \u001b[0;32mdef\u001b[0m \u001b[0mget_potential_energy\u001b[0m\u001b[0;34m(\u001b[0m\u001b[0mself\u001b[0m\u001b[0;34m,\u001b[0m \u001b[0matoms\u001b[0m\u001b[0;34m=\u001b[0m\u001b[0;32mNone\u001b[0m\u001b[0;34m,\u001b[0m \u001b[0mforce_consistent\u001b[0m\u001b[0;34m=\u001b[0m\u001b[0;32mFalse\u001b[0m\u001b[0;34m)\u001b[0m\u001b[0;34m:\u001b[0m\u001b[0;34m\u001b[0m\u001b[0;34m\u001b[0m\u001b[0m\n\u001b[0;32m--> 682\u001b[0;31m         \u001b[0menergy\u001b[0m \u001b[0;34m=\u001b[0m \u001b[0mself\u001b[0m\u001b[0;34m.\u001b[0m\u001b[0mget_property\u001b[0m\u001b[0;34m(\u001b[0m\u001b[0;34m'energy'\u001b[0m\u001b[0;34m,\u001b[0m \u001b[0matoms\u001b[0m\u001b[0;34m)\u001b[0m\u001b[0;34m\u001b[0m\u001b[0;34m\u001b[0m\u001b[0m\n\u001b[0m\u001b[1;32m    683\u001b[0m         \u001b[0;32mif\u001b[0m \u001b[0mforce_consistent\u001b[0m\u001b[0;34m:\u001b[0m\u001b[0;34m\u001b[0m\u001b[0;34m\u001b[0m\u001b[0m\n\u001b[1;32m    684\u001b[0m             \u001b[0;32mif\u001b[0m \u001b[0;34m'free_energy'\u001b[0m \u001b[0;32mnot\u001b[0m \u001b[0;32min\u001b[0m \u001b[0mself\u001b[0m\u001b[0;34m.\u001b[0m\u001b[0mresults\u001b[0m\u001b[0;34m:\u001b[0m\u001b[0;34m\u001b[0m\u001b[0;34m\u001b[0m\u001b[0m\n",
      "\u001b[0;32m~/.local/lib/python3.8/site-packages/ase/calculators/calculator.py\u001b[0m in \u001b[0;36mget_property\u001b[0;34m(self, name, atoms, allow_calculation)\u001b[0m\n\u001b[1;32m    736\u001b[0m             \u001b[0;32mif\u001b[0m \u001b[0;32mnot\u001b[0m \u001b[0mallow_calculation\u001b[0m\u001b[0;34m:\u001b[0m\u001b[0;34m\u001b[0m\u001b[0;34m\u001b[0m\u001b[0m\n\u001b[1;32m    737\u001b[0m                 \u001b[0;32mreturn\u001b[0m \u001b[0;32mNone\u001b[0m\u001b[0;34m\u001b[0m\u001b[0;34m\u001b[0m\u001b[0m\n\u001b[0;32m--> 738\u001b[0;31m             \u001b[0mself\u001b[0m\u001b[0;34m.\u001b[0m\u001b[0mcalculate\u001b[0m\u001b[0;34m(\u001b[0m\u001b[0matoms\u001b[0m\u001b[0;34m,\u001b[0m \u001b[0;34m[\u001b[0m\u001b[0mname\u001b[0m\u001b[0;34m]\u001b[0m\u001b[0;34m,\u001b[0m \u001b[0msystem_changes\u001b[0m\u001b[0;34m)\u001b[0m\u001b[0;34m\u001b[0m\u001b[0;34m\u001b[0m\u001b[0m\n\u001b[0m\u001b[1;32m    739\u001b[0m \u001b[0;34m\u001b[0m\u001b[0m\n\u001b[1;32m    740\u001b[0m         \u001b[0;32mif\u001b[0m \u001b[0mname\u001b[0m \u001b[0;34m==\u001b[0m \u001b[0;34m'magmom'\u001b[0m \u001b[0;32mand\u001b[0m \u001b[0;34m'magmom'\u001b[0m \u001b[0;32mnot\u001b[0m \u001b[0;32min\u001b[0m \u001b[0mself\u001b[0m\u001b[0;34m.\u001b[0m\u001b[0mresults\u001b[0m\u001b[0;34m:\u001b[0m\u001b[0;34m\u001b[0m\u001b[0;34m\u001b[0m\u001b[0m\n",
      "\u001b[0;32m~/.local/lib/python3.8/site-packages/ase/calculators/calculator.py\u001b[0m in \u001b[0;36mcalculate\u001b[0;34m(self, atoms, properties, system_changes)\u001b[0m\n\u001b[1;32m    937\u001b[0m                    '{} with error code {}'.format(self.name, command,\n\u001b[1;32m    938\u001b[0m                                                   path, errorcode))\n\u001b[0;32m--> 939\u001b[0;31m             \u001b[0;32mraise\u001b[0m \u001b[0mCalculationFailed\u001b[0m\u001b[0;34m(\u001b[0m\u001b[0mmsg\u001b[0m\u001b[0;34m)\u001b[0m\u001b[0;34m\u001b[0m\u001b[0;34m\u001b[0m\u001b[0m\n\u001b[0m\u001b[1;32m    940\u001b[0m \u001b[0;34m\u001b[0m\u001b[0m\n\u001b[1;32m    941\u001b[0m         \u001b[0mself\u001b[0m\u001b[0;34m.\u001b[0m\u001b[0mread_results\u001b[0m\u001b[0;34m(\u001b[0m\u001b[0;34m)\u001b[0m\u001b[0;34m\u001b[0m\u001b[0;34m\u001b[0m\u001b[0m\n",
      "\u001b[0;31mCalculationFailed\u001b[0m: Calculator \"espresso\" failed with command \"sbatch .job_file\" failed in /home/xing/espresso/bsc-2021-unibe/bulk/lto with error code 127"
     ]
    }
   ],
   "source": [
    "from xespresso import Espresso\n",
    "from pseudo import mypseudo\n",
    "\n",
    "# For this big bulk system, we use the \"empi\" partition\n",
    "queue = {'nodes': 4, 'ntasks-per-node': 20, 'partition': 'empi', 'mem-per-cpu': '5G', 'time': '23:59:00'}\n",
    "\n",
    "input_ntyp = {\n",
    "    'Hubbard_U': {'Ti': 3.0},                # DFT + U parameter\n",
    "    'starting_magnetization': {'Ti': 0.0}}   # magnetization\n",
    "\n",
    "calc = Espresso(label = 'bulk/lto',\n",
    "                pseudopotentials = mypseudo,\n",
    "                calculation = 'relax',   # allow atoms to move\n",
    "                ecutwfc = 40,\n",
    "                occupations = 'smearing',\n",
    "                degauss = 0.01,\n",
    "                kpts = (3, 5, 2),        # k-points, \n",
    "                electron_maxstep = 200,\n",
    "                nspin = 2,\n",
    "                lda_plus_u = True,\n",
    "                input_data = {'input_ntyp': input_ntyp},   # DFT+U and magnetization\n",
    "                queue = queue,\n",
    "                parallel = '-nk 5',)\n",
    "lto.calc = calc\n",
    "lto.get_potential_energy()\n",
    "e = lto.calc.results['energy']\n",
    "print('Energy {0:1.3f}'.format(e))"
   ]
  },
  {
   "source": [
    "What is the optimized lattice parameters? $a, b, c, \\alpha, \\gamma, \\beta$"
   ],
   "cell_type": "markdown",
   "metadata": {}
  },
  {
   "cell_type": "code",
   "execution_count": null,
   "metadata": {},
   "outputs": [],
   "source": [
    "# read the optmized structure\n",
    "lto_opt = lto.calc.results['atoms']\n",
    "a, b, c, alpha, beta, gamma = lto_opt.get_cell_lengths_and_angles()\n",
    "print(a, b, c, alpha, beta, gamma)"
   ]
  },
  {
   "source": [
    "#### 3.2 LaTiO$_2$N\n",
    "Please write your code for LaTiO$_2$N. The inpur file for atomic structure is in the datas folder."
   ],
   "cell_type": "markdown",
   "metadata": {}
  },
  {
   "cell_type": "code",
   "execution_count": null,
   "metadata": {},
   "outputs": [],
   "source": []
  },
  {
   "cell_type": "code",
   "execution_count": null,
   "metadata": {},
   "outputs": [],
   "source": []
  },
  {
   "source": [
    "### 4 Calculation the reaction energy\n",
    "The reaction energy is given by\n",
    "\n",
    "$\\Delta E = E_{products} - E_{reactant}$\n",
    "\n",
    "A negative value means that there is an energy gain for reaction, while a positive value means that reaction is not energetically favorable.\n"
   ],
   "cell_type": "markdown",
   "metadata": {}
  },
  {
   "cell_type": "code",
   "execution_count": null,
   "metadata": {},
   "outputs": [],
   "source": [
    "#=====================================================\n",
    "#  bulk reaction\n",
    "# use the energy from previous optmization calculation for the structures\n",
    "E_nh3 = nh3.calc.results['energy']\n",
    "E_h2o = h2o.calc.results['energy']\n",
    "E_lto = lto.calc.results['energy']\n",
    "E_lton = lton.calc.results['energy']\n",
    "dE = E_h2o + E_lton - E_lto + E_nh3\n",
    "print('reaction energy (eV):  {0:1.2f}'.format(dE))"
   ]
  },
  {
   "cell_type": "code",
   "execution_count": null,
   "metadata": {},
   "outputs": [],
   "source": []
  },
  {
   "source": [
    "### 5. Ab initio atomistic thermodynamics\n",
    "The Gibbs free energy of molecule system depends heavily on external temperature and pressure. In order to compare DFT results with experimental data, ab initio atomistic thermodynamics (AIAT) will be used.\n",
    "\n",
    "ASE contains a `IdealGasThermo` module that allow us calculate the thermodynamic quantities of molecules: https://wiki.fysik.dtu.dk/ase/ase/thermochemistry/thermochemistry.html?highlight=thermodynamic. \n",
    "\n",
    "We need the vibrational energies, which can be calculated with the `vibrations` module in ASE. We first read the optmized structure for NH$_3$ and H$_2$O , and then use a new Espresso calculator with `calculation = 'scf'` instead of `relax`.\n"
   ],
   "cell_type": "markdown",
   "metadata": {}
  },
  {
   "cell_type": "code",
   "execution_count": 1,
   "metadata": {},
   "outputs": [
    {
     "output_type": "error",
     "ename": "NameError",
     "evalue": "name 'nh3' is not defined",
     "traceback": [
      "\u001b[0;31m---------------------------------------------------------------------------\u001b[0m",
      "\u001b[0;31mNameError\u001b[0m                                 Traceback (most recent call last)",
      "\u001b[0;32m<ipython-input-1-deaceb1d9e8a>\u001b[0m in \u001b[0;36m<module>\u001b[0;34m\u001b[0m\n\u001b[1;32m      6\u001b[0m \u001b[0;34m\u001b[0m\u001b[0m\n\u001b[1;32m      7\u001b[0m \u001b[0;31m# read the optmized structure and energy for NH3\u001b[0m\u001b[0;34m\u001b[0m\u001b[0;34m\u001b[0m\u001b[0;34m\u001b[0m\u001b[0m\n\u001b[0;32m----> 8\u001b[0;31m \u001b[0mnh3_opt\u001b[0m \u001b[0;34m=\u001b[0m \u001b[0mnh3\u001b[0m\u001b[0;34m.\u001b[0m\u001b[0mcalc\u001b[0m\u001b[0;34m.\u001b[0m\u001b[0mresults\u001b[0m\u001b[0;34m[\u001b[0m\u001b[0;34m'atoms'\u001b[0m\u001b[0;34m]\u001b[0m\u001b[0;34m\u001b[0m\u001b[0;34m\u001b[0m\u001b[0m\n\u001b[0m\u001b[1;32m      9\u001b[0m \u001b[0;34m\u001b[0m\u001b[0m\n\u001b[1;32m     10\u001b[0m \u001b[0;31m# For this small molecule, we use the \"debug\" partition to avoid long waiting time\u001b[0m\u001b[0;34m\u001b[0m\u001b[0;34m\u001b[0m\u001b[0;34m\u001b[0m\u001b[0m\n",
      "\u001b[0;31mNameError\u001b[0m: name 'nh3' is not defined"
     ]
    }
   ],
   "source": [
    "from ase.build import molecule\n",
    "from ase.calculators.emt import EMT\n",
    "from ase.optimize import QuasiNewton\n",
    "from ase.vibrations import Vibrations\n",
    "from ase.thermochemistry import IdealGasThermo\n",
    "\n",
    "# read the optmized structure and energy for NH3\n",
    "nh3_opt = nh3.calc.results['atoms']\n",
    "\n",
    "# For this small molecule, we use the \"debug\" partition to avoid long waiting time\n",
    "queue = {'ntasks': 20, 'partition': 'debug', 'time': '00:10:00'}\n",
    "\n",
    "calc = Espresso(label = 'molecule/nh3-vib',\n",
    "                pseudopotentials = mypsudo,\n",
    "                calculation = 'scf',   # Do not allow atoms to move\n",
    "                tstress = True,\n",
    "                tprnfor = True,\n",
    "                ecutwfc = 40,\n",
    "                occupations = 'smearing',\n",
    "                degauss = 0.01,\n",
    "                kpts = (1, 1, 1),\n",
    "                queue = queue)\n",
    "nh3_opt.calc = calc\n",
    "\n",
    "vib_ = Vibrations(nh3_opt)\n",
    "vib_nh3.run()\n",
    "vib_energies_nh3 = vib_nh3.get_energies()\n"
   ]
  },
  {
   "source": [
    "Please write the code for H$_2$O."
   ],
   "cell_type": "markdown",
   "metadata": {}
  },
  {
   "cell_type": "code",
   "execution_count": null,
   "metadata": {},
   "outputs": [],
   "source": []
  },
  {
   "source": [
    "Now we calculate the Gibbs free energy for NH$_3$ and H$_2$O molecules at given a temperature (K) and pressure (Pa). Please do a literature review to find the reaction coditions (T and P) in the experiment. "
   ],
   "cell_type": "markdown",
   "metadata": {}
  },
  {
   "cell_type": "code",
   "execution_count": null,
   "metadata": {},
   "outputs": [],
   "source": [
    "# Temperature\n",
    "T = 1000\n",
    "\n",
    "# NH3\n",
    "P_nh3 = 1e5  # unit Pa\n",
    "thermo_nh3 = IdealGasThermo(vib_energies=vib_energies_nh3,    # use the vib_energies_nh3 from previous vibrational calculation\n",
    "                        potentialenergy=E_nh3,                # use the optimized energy from previous optmization calculation\n",
    "                        atoms=nh3,\n",
    "                        geometry='nonlinear',\n",
    "                        symmetrynumber=3, spin=0)\n",
    "G_nh3 = thermo_nh3.get_gibbs_energy(temperature=T, pressure=P_nh3)\n",
    "# H2O\n",
    "P_h2o = 1e5  # unit Pa\n",
    "thermo_h2o = IdealGasThermo(vib_energies=vib_energies,\n",
    "                        potentialenergy=potentialenergy,\n",
    "                        atoms=h2o,\n",
    "                        geometry='nonlinear',\n",
    "                        symmetrynumber=2, spin=0)\n",
    "G_h2o = thermo_nh3.get_gibbs_energy(temperature=T, pressure=P_h2o)"
   ]
  },
  {
   "source": [
    "Calculation the reaction energy at the given temperature (K) and pressure (Pa)."
   ],
   "cell_type": "markdown",
   "metadata": {}
  },
  {
   "cell_type": "code",
   "execution_count": null,
   "metadata": {},
   "outputs": [],
   "source": [
    "# For the gas phase, we use Gibbs free energy G_nh3 and G_h2o instead of E_nh3 and E_h2o\n",
    "dG = G_h2o + E_lton - E_lto + G_nh3\n",
    "print('Temperature: {0}'.format(T))\n",
    "print('Pressure NH3: {1}'.format(P_nh3))\n",
    "print('Pressure H2O: {1}'.format(P_h2o))\n",
    "print('Reaction Gibbs free energy (eV):  {0:1.2f}'.format(site, dG))"
   ]
  },
  {
   "source": [
    "### 6. Phase diagram\n",
    "A phase diagram shows the stable phases for a given system in a wide range of conditions. Phase diagram is an important tool in materials science, physical chemistry and mineralogy, and can be thought of as a \"map\" for researchers.\n",
    "\n",
    "In order to construct a phase diagram, the boundary between the La$_2$Ti$_2$O$_7$ and LaTiO$_2$N should be found. we need solve the following equation:\n",
    "\\begin{equation}\n",
    "\\Delta G(T, P) = 0,\n",
    "\\end{equation}\n",
    "The equilibrium point ($T$, $P$) is then plotted to construct the phase boundary."
   ],
   "cell_type": "markdown",
   "metadata": {}
  },
  {
   "cell_type": "code",
   "execution_count": null,
   "metadata": {},
   "outputs": [],
   "source": [
    "import numpy as np\n",
    "P_h2o = 1e5  # unit Pa\n",
    "\n",
    "# Temperature range\n",
    "T = np.linspace(300, 1500, 10)\n",
    "\n",
    "P = []\n",
    "for t in T:\n",
    "    # def the function to solve the equation\n",
    "    def calcdG(T):\n",
    "        G_nh3 = thermo_nh3.get_gibbs_energy(temperature=T, pressure=P_nh3)\n",
    "        G_h2o = thermo_nh3.get_gibbs_energy(temperature=T, pressure=P_h2o)\n",
    "        dG = G_h2o + E_lton - E_lto + G_nh3\n",
    "        return dG\n"
   ]
  }
 ],
 "metadata": {
  "kernelspec": {
   "display_name": "Python 3",
   "language": "python",
   "name": "python3"
  },
  "language_info": {
   "codemirror_mode": {
    "name": "ipython",
    "version": 3
   },
   "file_extension": ".py",
   "mimetype": "text/x-python",
   "name": "python",
   "nbconvert_exporter": "python",
   "pygments_lexer": "ipython3",
   "version": "3.8.5-final"
  }
 },
 "nbformat": 4,
 "nbformat_minor": 4
}