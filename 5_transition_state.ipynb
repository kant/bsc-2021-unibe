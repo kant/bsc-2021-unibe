{
 "cells": [
  {
   "cell_type": "markdown",
   "metadata": {},
   "source": [
    "## Part 5 Decomposition pathways\n",
    "\n",
    "Supervisor: Prof. Aschauer\n",
    "\n",
    "Assistants: Dr. Xing Wang\n",
    "\n",
    "Room:\tN216"
   ]
  },
  {
   "source": [
    "\n",
    "### 1. Introduction\n",
    "\n",
    "We now calculate the barrier for NH$_3$ dissociation. Before the real calculation, We will consider a simple example of the barrier for N$2$ dissociation. https://wiki.fysik.dtu.dk/ase/tutorials/dissociation.html\n"
   ],
   "cell_type": "markdown",
   "metadata": {}
  },
  {
   "source": [
    "### 2. N$_2$ dissociation on Cu (111) surface\n",
    "initial and final states"
   ],
   "cell_type": "markdown",
   "metadata": {}
  },
  {
   "cell_type": "code",
   "execution_count": 10,
   "metadata": {},
   "outputs": [
    {
     "output_type": "execute_result",
     "data": {
      "text/plain": [
       "<IPython.lib.display.IFrame at 0x7fbfecf32a00>"
      ],
      "text/html": "\n        <iframe\n            width=\"1000px\"\n            height=\"500px\"\n            src=\"htmls/cu-111-n2-initial.html\"\n            frameborder=\"0\"\n            allowfullscreen\n        ></iframe>\n        "
     },
     "metadata": {},
     "execution_count": 10
    }
   ],
   "source": [
    "from ase import Atoms\n",
    "from ase.build import molecule\n",
    "from ase.build import fcc111, add_adsorbate\n",
    "from x3dase.visualize import view_x3d_n\n",
    "from ase.constraints import FixAtoms\n",
    "\n",
    "# Find the initial and final states for the reaction.\n",
    "# Set up a (4 x 4) two layer slab of Cu:\n",
    "slab = fcc111('Cu',size=(2,2,2))\n",
    "slab.pbc = [True, True, True]\n",
    "mask = [atom.symbol == 'Cu' for atom in slab]\n",
    "slab.set_constraint(FixAtoms(mask=mask))\n",
    "\n",
    "\n",
    "# Initial state.\n",
    "# Add the N2 molecule oriented at 60 degrees:\n",
    "initial = slab.copy()\n",
    "N2 = molecule('N2')\n",
    "N2.rotate(90, 'x')\n",
    "N2.rotate(-60, 'z')\n",
    "add_adsorbate(initial,N2,height=1.2,position='fcc')\n",
    "view_x3d_n(initial, bond = 1.0, output = 'htmls/cu-111-n2-initial.html')\n",
    "\n"
   ]
  },
  {
   "cell_type": "code",
   "execution_count": 13,
   "metadata": {},
   "outputs": [
    {
     "output_type": "execute_result",
     "data": {
      "text/plain": [
       "<IPython.lib.display.IFrame at 0x7fbfe24221f0>"
      ],
      "text/html": "\n        <iframe\n            width=\"1000px\"\n            height=\"500px\"\n            src=\"htmls/cu-111-n2-final.html\"\n            frameborder=\"0\"\n            allowfullscreen\n        ></iframe>\n        "
     },
     "metadata": {},
     "execution_count": 13
    }
   ],
   "source": [
    "# Now the final state.\n",
    "# Move the second N atom to a neighboring hollow site:\n",
    "final = slab.copy()\n",
    "N = Atoms('N')\n",
    "add_adsorbate(final, N, height=1.2, position='fcc')\n",
    "add_adsorbate(final, N, height=1.2, position='hcp')\n",
    "view_x3d_n(final, bond = 1.0, output = 'htmls/cu-111-n2-final.html')\n"
   ]
  },
  {
   "source": [
    "#### relax calculation"
   ],
   "cell_type": "markdown",
   "metadata": {}
  },
  {
   "cell_type": "code",
   "execution_count": null,
   "metadata": {},
   "outputs": [],
   "source": [
    "from xespresso import Espresso\n",
    "from xespresso.tools import mypool, fix_layers, dipole_correction\n",
    "\n",
    "jobs = {\n",
    "'initial': initial,\n",
    "'final': final,\n",
    "}\n",
    "queue = {'ntasks': 10, 'partition': 'debug', 'time': '00:10:00'}\n",
    "print('States    Energy (ev)')\n",
    "for job, atoms in jobs.items():\n",
    "    calc = Espresso(label = 'surface/cu-111-n2/{0}/{0}'.format(job),\n",
    "                    pseudopotentials = mypseudo,\n",
    "                    calculation = 'relax',\n",
    "                    ecutwfc = 30,\n",
    "                    kpts = (1, 1, 1),\n",
    "                    queue = queue,\n",
    "                   )\n",
    "    atoms.calc = calc\n",
    "    atoms.get_potential_energy()\n",
    "    calc.read_results()\n",
    "    jobs[job] = calc.results['atoms']\n",
    "    e = calc.results['energy']\n",
    "    print('{0:10s}  {1:10.3f}'.format(job, e))\n"
   ]
  },
  {
   "source": [
    "#### NEB calculation"
   ],
   "cell_type": "markdown",
   "metadata": {}
  },
  {
   "source": [
    "\n",
    "from xespresso.neb import NEBEspresso\n",
    "\n",
    "images = [jobs['initial'], jobs['final']]\n",
    "path_data = {\n",
    "'string_method' : 'neb',\n",
    "'nstep_path': 50,\n",
    "'opt_scheme': \"broyden\",\n",
    "'num_of_images' : 7,\n",
    "'k_max' : 0.3E0,\n",
    "'k_min' : 0.2E0,\n",
    "'CI_scheme' : \"auto\",\n",
    "'path_thr': 0.1E0,\n",
    "}\n",
    "queue = {'nodes': 2, 'ntasks-per-node': 20, 'partition': 'debug', 'time': '00:10:00'}\n",
    "calc = NEBEspresso(pseudopotentials = pseudopotentials, \n",
    "                 label  = 'molecule/neb/nh3/images',\n",
    "                 package = 'neb',\n",
    "                 queue = queue,\n",
    "                 parallel = '-ni 5',\n",
    "                 images = images,\n",
    "                 path_data = path_data,\n",
    "                 ecutwfc = 30,\n",
    "                 kpts = (1, 1, 1),\n",
    "                  )\n",
    "#\n",
    "calc.calculate()\n",
    "calc.read_results()\n",
    "calc.plot()\n"
   ],
   "cell_type": "code",
   "metadata": {},
   "execution_count": null,
   "outputs": []
  },
  {
   "source": [
    "### 3. NH$_3$ dissociation\n",
    "Please read the inital and final structure from your previous calculations, and do the NEB calculation. Please discuss with me when you are doing this."
   ],
   "cell_type": "markdown",
   "metadata": {}
  },
  {
   "cell_type": "code",
   "execution_count": null,
   "metadata": {},
   "outputs": [],
   "source": []
  }
 ],
 "metadata": {
  "kernelspec": {
   "display_name": "Python 3",
   "language": "python",
   "name": "python3"
  },
  "language_info": {
   "codemirror_mode": {
    "name": "ipython",
    "version": 3
   },
   "file_extension": ".py",
   "mimetype": "text/x-python",
   "name": "python",
   "nbconvert_exporter": "python",
   "pygments_lexer": "ipython3",
   "version": "3.8.5-final"
  }
 },
 "nbformat": 4,
 "nbformat_minor": 4
}