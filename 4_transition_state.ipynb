{
 "cells": [
  {
   "cell_type": "markdown",
   "metadata": {},
   "source": [
    "## Part 4 Transition state\n",
    "\n",
    "Supervisor: Prof. Aschauer\n",
    "\n",
    "Assistants: Dr. Xing Wang\n",
    "\n",
    "Room:\tN216"
   ]
  },
  {
   "source": [
    "\n",
    "### 1. Introduction\n",
    "\n",
    "We now calculate the barrier for NH$_3$ dissociation. Before the real calculation, We will consider a simple example of the barrier for NH$_3$ inversion. We have to create an NH$_3$ molecule in the initial and inverted state (these have exactly the same energy), and then interpolate a band of images. Then, we use the `NEBEspresso` module to compute the barrier to inversion."
   ],
   "cell_type": "markdown",
   "metadata": {}
  },
  {
   "source": [
    "### 2. NH$_3$ inversion\n",
    "initial and final states"
   ],
   "cell_type": "markdown",
   "metadata": {}
  },
  {
   "cell_type": "code",
   "execution_count": 5,
   "metadata": {},
   "outputs": [
    {
     "output_type": "execute_result",
     "data": {
      "text/plain": [
       "<IPython.lib.display.IFrame at 0x7fd3150a2580>"
      ],
      "text/html": "\n        <iframe\n            width=\"1000px\"\n            height=\"500px\"\n            src=\"x3dase.html\"\n            frameborder=\"0\"\n            allowfullscreen\n        ></iframe>\n        "
     },
     "metadata": {},
     "execution_count": 5
    }
   ],
   "source": [
    "from ase.structure import molecule\n",
    "import numpy as np\n",
    "from xespresso import Espresso\n",
    "from ase.constraints import FixAtoms\n",
    "from x3dase.visualize import view_x3d_n\n",
    "\n",
    "\n",
    "atoms = molecule('NH3')\n",
    "atoms.set_cell((10, 10, 10), scale_atoms=False)\n",
    "constraint = FixAtoms(mask=[atom.symbol == 'N' for atom in atoms])\n",
    "atoms.set_constraint(constraint)\n",
    "# move N to origin\n",
    "atoms.translate(-atoms.positions[0])\n",
    "initial = atoms.copy()\n",
    "view_x3d_n(final, output = 'htmls/nh3-inital.html')\n"
   ]
  },
  {
   "cell_type": "code",
   "execution_count": 7,
   "metadata": {},
   "outputs": [
    {
     "output_type": "execute_result",
     "data": {
      "text/plain": [
       "<IPython.lib.display.IFrame at 0x7fd31c71f700>"
      ],
      "text/html": "\n        <iframe\n            width=\"1000px\"\n            height=\"500px\"\n            src=\"x3dase.html\"\n            frameborder=\"0\"\n            allowfullscreen\n        ></iframe>\n        "
     },
     "metadata": {},
     "execution_count": 7
    }
   ],
   "source": [
    "final = atoms.copy()\n",
    "final.positions[1:4, :] *= np.array([1, 1, -1])\n",
    "view_x3d_n(final, output = 'htmls/nh3-final.html')"
   ]
  },
  {
   "source": [
    "#### relax calculation"
   ],
   "cell_type": "markdown",
   "metadata": {}
  },
  {
   "cell_type": "code",
   "execution_count": null,
   "metadata": {},
   "outputs": [],
   "source": [
    "from xespresso import Espresso\n",
    "from xespresso.tools import mypool, fix_layers, dipole_correction\n",
    "\n",
    "jobs = {\n",
    "'initial': initial,\n",
    "'final': final,\n",
    "}\n",
    "queue = {'ntasks': 10, 'partition': 'debug', 'time': '00:10:00'}\n",
    "print('States    Energy (ev)')\n",
    "for job, atoms in jobs.items():\n",
    "    calc = Espresso(label = 'molecule/neb/nh3/{0}/{0}'.format(job),\n",
    "                    pseudopotentials = mypseudo,\n",
    "                    calculation = 'relax',\n",
    "                    ecutwfc = 30,\n",
    "                    kpts = (1, 1, 1),\n",
    "                    queue = queue,\n",
    "                   )\n",
    "    atoms.calc = calc\n",
    "    atoms.get_potential_energy()\n",
    "    calc.read_results()\n",
    "    jobs[job] = calc.results['atoms']\n",
    "    e = calc.results['energy']\n",
    "    print('{0:10s}  {1:10.3f}'.format(job, e))\n"
   ]
  },
  {
   "source": [
    "#### NEB calculation"
   ],
   "cell_type": "markdown",
   "metadata": {}
  },
  {
   "source": [
    "\n",
    "from xespresso.neb import NEBEspresso\n",
    "\n",
    "images = [jobs['initial'], jobs['final']]\n",
    "path_data = {\n",
    "'string_method' : 'neb',\n",
    "'nstep_path': 50,\n",
    "'opt_scheme': \"broyden\",\n",
    "'num_of_images' : 7,\n",
    "'k_max' : 0.3E0,\n",
    "'k_min' : 0.2E0,\n",
    "'CI_scheme' : \"auto\",\n",
    "'path_thr': 0.1E0,\n",
    "}\n",
    "queue = {'nodes': 2, 'ntasks-per-node': 20, 'partition': 'debug', 'time': '00:10:00'}\n",
    "calc = NEBEspresso(pseudopotentials = pseudopotentials, \n",
    "                 label  = 'molecule/neb/nh3/images',\n",
    "                 package = 'neb',\n",
    "                 queue = queue,\n",
    "                 parallel = '-ni 5',\n",
    "                 images = images,\n",
    "                 path_data = path_data,\n",
    "                 ecutwfc = 30,\n",
    "                 kpts = (1, 1, 1),\n",
    "                  )\n",
    "#\n",
    "calc.calculate()\n",
    "calc.read_results()\n",
    "calc.plot()\n"
   ],
   "cell_type": "code",
   "metadata": {},
   "execution_count": null,
   "outputs": []
  },
  {
   "source": [
    "### 3. NH$_3$ dissociation\n",
    "Please read the inital and final structure from your previous calculations, and do the NEB calculation. Please discuss with me when you are doing this."
   ],
   "cell_type": "markdown",
   "metadata": {}
  },
  {
   "cell_type": "code",
   "execution_count": null,
   "metadata": {},
   "outputs": [],
   "source": []
  }
 ],
 "metadata": {
  "kernelspec": {
   "display_name": "Python 3",
   "language": "python",
   "name": "python3"
  },
  "language_info": {
   "codemirror_mode": {
    "name": "ipython",
    "version": 3
   },
   "file_extension": ".py",
   "mimetype": "text/x-python",
   "name": "python",
   "nbconvert_exporter": "python",
   "pygments_lexer": "ipython3",
   "version": "3.8.5-final"
  }
 },
 "nbformat": 4,
 "nbformat_minor": 4
}