{
 "cells": [
  {
   "cell_type": "markdown",
   "metadata": {},
   "source": [
    "## Part 3 Molecular adsorption\n",
    "\n",
    "Supervisor: Prof. Aschauer\n",
    "\n",
    "Assistants: Dr. Xing Wang\n",
    "\n",
    "Room:\tN216"
   ]
  },
  {
   "source": [
    "### 1. Surface\n",
    "We have two surfaces: stoichiometric and defective surfaces. Here we calculate the stoichiometric surface. Please create a new Jupyter-notebook to calculate the defective one."
   ],
   "cell_type": "markdown",
   "metadata": {}
  },
  {
   "cell_type": "code",
   "execution_count": null,
   "metadata": {},
   "outputs": [],
   "source": [
    "# read the optimized sruface structure from Part 2\n",
    "from xespresso import Espresso\n",
    "calc = Espresso(label = 'surface/lto-010')\n",
    "slab_opt = slab.calc.results['atoms']\n"
   ]
  },
  {
   "source": [
    "### 2. Molecular adsorption\n",
    "The La$_2$Ti$_2$O$_7$ surface exposes four undercoordinated La and four undercoordinated Ti atoms, surrounded by O atoms, that represent adsorption sites for the NH$_3$. Molecular NH$_3$ will adsorb on the surface in a lots of geometries. We will try the configurations with the N atoms about 1Å above the follwoing surface sites:\n",
    "\n",
    "* at the top site (La, Ti)\n",
    "* at the bridge site between La and Ti atoms\n",
    "\n",
    "Let's look at the La$_2$Ti$_2$O$_7$ surface again and chose approximate positions for the adsorption sites. Then add those position information to the `adsorbate_info` of the slab."
   ],
   "cell_type": "markdown",
   "metadata": {}
  },
  {
   "cell_type": "code",
   "execution_count": 29,
   "metadata": {},
   "outputs": [],
   "source": [
    "# set adsorption site on the slab\n",
    "positions = slab.get_scaled_positions()\n",
    "sites = {\n",
    "    'Ti-top': positions[74][0:2], # the (x, y) position of the atom 51 in the slab\n",
    "    # 'O-top': positions[75][0:2], \n",
    "    'La-top': positions[67][0:2], \n",
    "    'Ti-La-bridge': (positions[67][0:2] + positions[73][0:2])/2.0,  # bridge site between atom 67 and atom 73\n",
    "    }\n",
    "slab_opt.info['adsorbate_info'] = {'sites': sites}"
   ]
  },
  {
   "source": [
    "Is there other posible adsorption sites and geometries?\n",
    "\n",
    "Now we add NH$_3$ on the adsorption sites. Please check all configurations."
   ],
   "cell_type": "markdown",
   "metadata": {}
  },
  {
   "cell_type": "code",
   "execution_count": 36,
   "metadata": {},
   "outputs": [
    {
     "output_type": "stream",
     "name": "stdout",
     "text": [
      "Ti-top\nO-top\nLa-top\nTi-La-bridge\n"
     ]
    },
    {
     "output_type": "execute_result",
     "data": {
      "text/plain": [
       "<IPython.lib.display.IFrame at 0x7fac31ad36d0>"
      ],
      "text/html": "\n        <iframe\n            width=\"1000px\"\n            height=\"500px\"\n            src=\"htmls/Ti-La-bridge-N.html\"\n            frameborder=\"0\"\n            allowfullscreen\n        ></iframe>\n        "
     },
     "metadata": {},
     "execution_count": 36
    }
   ],
   "source": [
    "from ase.build import molecule, add_adsorbate\n",
    "nh3 = molecule('NH3')\n",
    "nh3.rotate(180, 'x') # rotate the molecule to make N atoms in the downside\n",
    "jobs = {}\n",
    "for site in slab.info['adsorbate_info']['sites']:\n",
    "    print(site)\n",
    "    atoms = slab_opt.copy()\n",
    "    add_adsorbate(atoms, nh3, 1.0, site, mol_index=0)\n",
    "    jobs[site] = atoms\n",
    "# We can check the structure \n",
    "view(jobs.values())\n",
    "site = 'Ti-top'\n",
    "view_x3d_n(jobs[site], bond = 1.0, label = True, output = 'htmls/%s-N.html'%site)"
   ]
  },
  {
   "source": [
    "\n",
    "Each calculation will take a long time, therefore we will not run the calculation one by one. Instead, a `mypool` function will be used to sumbit all the calculations at the same time, thus all jobs will run parallelly."
   ],
   "cell_type": "markdown",
   "metadata": {}
  },
  {
   "cell_type": "code",
   "execution_count": 15,
   "metadata": {},
   "outputs": [
    {
     "name": "stdout",
     "output_type": "stream",
     "text": [
      "Same geometry and parameters, try to check the results are available or not.\n",
      "top-top -11543.680\n",
      "Same geometry and parameters, try to check the results are available or not.\n",
      "top-fcc -11543.638\n"
     ]
    }
   ],
   "source": [
    "from xespresso import Espresso\n",
    "from xespresso.tools import mypool\n",
    "from pseudo import mypseudo\n",
    "\n",
    "\n",
    "queue = {'nodes': 4, 'ntasks-per-node': 20, 'partition': 'empi', 'mem-per-cpu': '5G', 'time': '23:59:00'}\n",
    "\n",
    "molecular_energies = {}\n",
    "# def a function to run a calculation for one site\n",
    "def run(job, atoms):\n",
    "    calc = Espresso(label = 'surface/nh3/%s'%job,\n",
    "                    pseudopotentials = mypsudo,\n",
    "                    calculation = 'relax',   # allow atoms to move\n",
    "                    ecutwfc = 40,\n",
    "                    occupations = 'smearing',\n",
    "                    degauss = 0.01,\n",
    "                    kpts = (2, 4, 1),        # k-points, \n",
    "                    electron_maxstep = 200,\n",
    "                    mixing_mode = 'local-TF',\n",
    "                    nspin = 2,\n",
    "                    lda_plus_u = True,\n",
    "                    input_data = {'input_ntyp': input_ntyp},\n",
    "                    queue = queue,\n",
    "                    parallel = '-nk 5',)\n",
    "    atoms.calc = calc\n",
    "    atoms.get_potential_energy()\n",
    "    e = atoms.calc.results['energy']\n",
    "    print('{0} {1:3.3f}'.format(site, e))\n",
    "    return job, calc\n",
    "# submit the calculation for all site at the same time\n",
    "mypool(jobs, run)"
   ]
  },
  {
   "cell_type": "markdown",
   "metadata": {},
   "source": [
    "### 4. Calculation the adsorption energy\n",
    "The adsorption energy is given by\n",
    "\n",
    "$\\Delta E_{ads} = E_{surf + ads} - (E_{surf} + E_{ads})$\n",
    "\n",
    "where $E_{surf + ads}$ is the energy of the surface with the adsorbate (NH$_3$), $E_{surf}$ is the energy of the clean surface and $E_{ads}$ is the energy of the adsorbate. A negative value means that there is an energy gain for adsorption, while a positive value means that adsorption is not energetically favorable."
   ]
  },
  {
   "cell_type": "code",
   "execution_count": 40,
   "metadata": {},
   "outputs": [
    {
     "name": "stdout",
     "output_type": "stream",
     "text": [
      "Sites     Adsorption energies (eV)\n",
      "top-top     -0.74\n",
      "top-fcc     -0.70\n"
     ]
    }
   ],
   "source": [
    "#=====================================================\n",
    "#  Molecular adsorption\n",
    "E_nh3 = ?\n",
    "E_lto = ?\n",
    "molecular_energies = {\n",
    "'Ti-top': ?,\n",
    "'O-top': ?,\n",
    "'La-top': ?,\n",
    "?\n",
    "?\n",
    "}\n",
    "print('Sites     Adsorption energies (eV)')\n",
    "for site, E_ads in molecular_energies.items():\n",
    "    dE_ads = E_ads - (E_lto + E_nh3)\n",
    "    print('{0:10s}  {1:1.2f}'.format(site, dE_ads))"
   ]
  }
 ],
 "metadata": {
  "kernelspec": {
   "display_name": "Python 3",
   "language": "python",
   "name": "python3"
  },
  "language_info": {
   "codemirror_mode": {
    "name": "ipython",
    "version": 3
   },
   "file_extension": ".py",
   "mimetype": "text/x-python",
   "name": "python",
   "nbconvert_exporter": "python",
   "pygments_lexer": "ipython3",
   "version": "3.8.5-final"
  }
 },
 "nbformat": 4,
 "nbformat_minor": 4
}