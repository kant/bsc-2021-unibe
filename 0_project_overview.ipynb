{
 "cells": [
  {
   "cell_type": "markdown",
   "metadata": {},
   "source": [
    "## Bachelor project: Mechanisms for nitrogen incorporation during ammonolysis of oxides\n",
    "\n",
    "Supervisor: Prof. Aschauer\n",
    "\n",
    "Assistants: Dr. Xing Wang\n",
    "\n",
    "Room:\tN216"
   ]
  },
  {
   "cell_type": "markdown",
   "metadata": {},
   "source": [
    "### 1. Motivation\n",
    "\n",
    "Oxynitrides are promising photocatalysts and are typically synthesized starting from pure oxides by ammonolysis, i.e. placing them at high temperature under ammonia flow for extended periods of time. During this process ammonia is thought to decompose on the surface and nitrogen is incorporated in \n",
    "the material. We have in the past established N diffusion mechanisms and pathways in the oxide La$_2$Ti$_2$O$_7$ but a complete understanding of the oxide to oxynitride (LaTiO$_2$N) conversion and the resulting morphology still requires more detailed knowledge of the surface processes leading to nitrogen incorporation.\n",
    "\n",
    "<img src=\"images/LTON.png\"  width=\"300\">\n",
    "\n",
    "Figure 1: Crystal structures of the oxide La$_2$Ti$_2$O$_7$ and the oxynitride LaTiO$_2$N\n",
    "\n",
    "### 2. Goal\n",
    "\n",
    "The aim of this project is to use density functional theory (DFT) calculations to establish the N incorporation mechanism at the dominant (010) surface of La2Ti2O7.\n",
    "\n",
    "### 3. Approach\n",
    "You will perform your DFT calculations on the UBELIX computer cluster of the university. At the beginning of your project, you will become familiar with the LINUX operating system on this machine, with the basics of DFT and with the software and tools necessary to perform your calculations.You will then study ammonia adsorption on stoichiometric as well as defective (010) surfaces of La$_2$Ti$_2$O$_7$ and establish the thermodynamics and kinetics of various decomposition pathways, considering different routes (substitution, interstitial) and charge states (neutral or ionic) to incorporate the nitrogen atom. By comparing with our preexisting data for the bulk of the material, your data will give important clues for how nitrogen diffuses into the material and therefore how the transformation is likely to take place."
   ]
  },
  {
   "cell_type": "code",
   "execution_count": null,
   "metadata": {},
   "outputs": [],
   "source": []
  }
 ],
 "metadata": {
  "kernelspec": {
   "display_name": "Python 3",
   "language": "python",
   "name": "python3"
  },
  "language_info": {
   "codemirror_mode": {
    "name": "ipython",
    "version": 3
   },
   "file_extension": ".py",
   "mimetype": "text/x-python",
   "name": "python",
   "nbconvert_exporter": "python",
   "pygments_lexer": "ipython3",
   "version": "3.7.6"
  }
 },
 "nbformat": 4,
 "nbformat_minor": 4
}