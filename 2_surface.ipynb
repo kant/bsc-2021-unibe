{
 "cells": [
  {
   "cell_type": "markdown",
   "metadata": {},
   "source": [
    "## Part 2 La$_2$Ti$_2$O$_7$ surface\n",
    "\n",
    "Supervisor: Prof. Aschauer\n",
    "\n",
    "Assistants: Dr. Xing Wang\n",
    "\n",
    "Room:\tN216"
   ]
  },
  {
   "source": [
    "### 1. Stoichiometric La$_2$Ti$_2$O$_7$ surface\n",
    "\n",
    "ASE provides a `surface` function to setup the surface. Here we focus on the (001) surface of La$_2$Ti$_2$O$_7$. In the atomic structure, we kept the bottom two atomic layers fixed at their bulk positions, which is an (admittedly pretty drastic) approximation of the surface of a very large solid.\n",
    "\n",
    "\n",
    "We should build a symmetric and stoichiometric surface slab if it is possible. Please discuss with me when you doing this.\n",
    "\n",
    "Here (001) surface:\n",
    "\n"
   ],
   "cell_type": "markdown",
   "metadata": {}
  },
  {
   "cell_type": "code",
   "execution_count": 14,
   "metadata": {},
   "outputs": [
    {
     "output_type": "execute_result",
     "data": {
      "text/plain": [
       "<IPython.lib.display.IFrame at 0x7fd87832e0d0>"
      ],
      "text/html": "\n        <iframe\n            width=\"1000px\"\n            height=\"500px\"\n            src=\"htmls/lto-surface.html\"\n            frameborder=\"0\"\n            allowfullscreen\n        ></iframe>\n        "
     },
     "metadata": {},
     "execution_count": 14
    }
   ],
   "source": [
    "from ase.io import read\n",
    "from ase.build import surface, add_adsorbate\n",
    "from ase.constraints import FixAtoms\n",
    "from ase.geometry import get_layers\n",
    "from ase.visualize import view\n",
    "from xespresso import Espresso\n",
    "from xespresso.tools import mypool, fix_layers, dipole_correction\n",
    "from x3dase.visualize import view_x3d_n\n",
    "# read the optmized La2Ti2O7 structure\n",
    "lto = read('datas/La2Ti2O7.cif')\n",
    "# lto = Espresso(label = 'bulk/lto').results['atoms']\n",
    "slab = surface(lto, (0, 0, 1), 1, vacuum = 5.0)\n",
    "slab.pbc = [True, True, True]\n",
    "# view(slab)\n",
    "layers = get_layers(slab, (0, 0, 1), 1.0)[0]\n",
    "index = [j for j in range(len(slab)) if layers[j] in range(2, 11)]\n",
    "slab = slab[index]\n",
    "# \n",
    "view_x3d_n(slab, bond = 0.8, label = True, polyhedra = {'Ti': ['O']}, output = 'htmls/lto-surface.html')"
   ]
  },
  {
   "source": [
    "Then build the Espresso calculator."
   ],
   "cell_type": "markdown",
   "metadata": {}
  },
  {
   "cell_type": "code",
   "execution_count": null,
   "metadata": {},
   "outputs": [],
   "source": [
    "# For this big bulk system, we use the \"empi\" partition\n",
    "queue = {'nodes': 4, 'ntasks-per-node': 20, 'partition': 'empi', 'mem-per-cpu': '5G', 'time': '23:59:00'}\n",
    "\n",
    "input_ntyp = {\n",
    "    'Hubbard_U': {'Ti': 3.0},\n",
    "    'starting_magnetization': {'Ti': 0.0}}\n",
    "\n",
    "calc = Espresso(label = 'surface/lto-010',\n",
    "                pseudopotentials = mypsudo,\n",
    "                calculation = 'relax',   # allow atoms to move\n",
    "                ecutwfc = 40,\n",
    "                occupations = 'smearing',\n",
    "                degauss = 0.01,\n",
    "                kpts = (2, 4, 1),        # k-points, \n",
    "                electron_maxstep = 200,\n",
    "                mixing_mode = 'local-TF',\n",
    "                nspin = 2,\n",
    "                lda_plus_u = True,\n",
    "                input_data = {'input_ntyp': input_ntyp},\n",
    "                queue = queue,\n",
    "                parallel = '-nk 5',)\n",
    "slab.calc = calc\n",
    "atoms.get_potential_energy()\n",
    "e = slab.calc.results['energy']\n",
    "print('Energy {0:3.3f}'.format(e))"
   ]
  },
  {
   "source": [
    "### 2. Defective surface\n",
    "\n",
    "One of the most common defects on the surface iss vacancy. Here we only consider the oxygen vacancy site. There several oxygen atoms on the surface. Please remove each of the oxygen atoms. "
   ],
   "cell_type": "markdown",
   "metadata": {}
  },
  {
   "cell_type": "code",
   "execution_count": null,
   "metadata": {},
   "outputs": [],
   "source": [
    "slab_ov = slab.calc.results['atoms'].copy\n",
    "del slab.info['species']\n",
    "\n",
    "sites = [75, 83]\n",
    "jobs = {}\n",
    "for site in sites:\n",
    "    slab_ov = slab.copy()\n",
    "    del slab_ov[site]\n",
    "    jobs['ov-%s'%site] = slab_ov\n",
    "view(jobs.values())"
   ]
  },
  {
   "source": [
    "The build the Espresso calculator and run the calculations. Which site is the most stable one? "
   ],
   "cell_type": "markdown",
   "metadata": {}
  }
 ],
 "metadata": {
  "kernelspec": {
   "display_name": "Python 3",
   "language": "python",
   "name": "python3"
  },
  "language_info": {
   "codemirror_mode": {
    "name": "ipython",
    "version": 3
   },
   "file_extension": ".py",
   "mimetype": "text/x-python",
   "name": "python",
   "nbconvert_exporter": "python",
   "pygments_lexer": "ipython3",
   "version": "3.8.5-final"
  }
 },
 "nbformat": 4,
 "nbformat_minor": 4
}