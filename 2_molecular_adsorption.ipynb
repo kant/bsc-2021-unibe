{
 "cells": [
  {
   "cell_type": "markdown",
   "metadata": {},
   "source": [
    "## Part 2 Molecular adsorption\n",
    "\n",
    "Supervisor: Prof. Aschauer\n",
    "\n",
    "Assistants: Dr. Xing Wang\n",
    "\n",
    "Room:\tN216"
   ]
  },
  {
   "source": [
    "### 1. Clean La$_2$Ti$_2$O$_7$ surface\n",
    "\n",
    "ASE provides a `surface` function to setup the surface. Here we focus on the (010) surface of La$_2$Ti$_2$O$_7$. In the atomic structure, we kept the bottom two atomic layers fixed at their bulk positions, which is an (admittedly pretty drastic) approximation of the surface of a very large solid.\n",
    "\n",
    "\n",
    "We should build a symmetric and stoichiometric surface slab if it is possible. Please discuss with me when you doing this.\n",
    "\n",
    "Here (010) surface:\n",
    "\n"
   ],
   "cell_type": "markdown",
   "metadata": {}
  },
  {
   "cell_type": "code",
   "execution_count": 28,
   "metadata": {},
   "outputs": [
    {
     "output_type": "stream",
     "name": "stdout",
     "text": [
      "Atoms(symbols='La16O56Ti16', pbc=True, cell=[[13.219083400000002, 0.0, 0.0], [-1.1597661595305675, 7.7306691565224614, 0.0], [0.0, -0.0, 26.500206001183003]], spacegroup_kinds=..., constraint=FixAtoms(indices=[9, 11, 14, 16, 19]))\n"
     ]
    },
    {
     "output_type": "execute_result",
     "data": {
      "text/plain": [
       "<IPython.lib.display.IFrame at 0x7fac11ca2520>"
      ],
      "text/html": "\n        <iframe\n            width=\"1000px\"\n            height=\"500px\"\n            src=\"htmls/lto-surface.html\"\n            frameborder=\"0\"\n            allowfullscreen\n        ></iframe>\n        "
     },
     "metadata": {},
     "execution_count": 28
    }
   ],
   "source": [
    "from ase.io import read\n",
    "from ase.build import surface, add_adsorbate\n",
    "from ase.constraints import FixAtoms\n",
    "from ase.geometry import get_layers\n",
    "from ase.visualize import view\n",
    "from xespresso import Espresso\n",
    "from xespresso.tools import mypool, fix_layers, dipole_correction\n",
    "from x3dase.visualize import view_x3d_n\n",
    "# read the optmized La2Ti2O7 structure\n",
    "lto = read('datas/La2Ti2O7.cif')\n",
    "# lto = Espresso(label = 'bulk/lto').results['atoms']\n",
    "slab = surface(lto, (0, 1, 0), 4, vacuum = 5.0)\n",
    "slab.pbc = [True, True, True]\n",
    "# view(slab)\n",
    "layers = get_layers(slab, (0, 0, 1), 0.5)[0]\n",
    "index = [j for j in range(len(slab)) if layers[j] in range(2, 11)]\n",
    "slab = slab[index]\n",
    "# view(slab)\n",
    "del slab[[81, 90, 92, 91, 13, 16, 15, 24, 85, 12]]\n",
    "# view(slab)\n",
    "slab.positions[:, 2] -= min(slab.positions[:, 2]) - 0.01\n",
    "slab.positions[:, 1] -= slab.cell[1][1]/2.0\n",
    "slab.wrap()\n",
    "slab.cell[2][2] = max(slab.positions[:, 2]) + 15\n",
    "slab = fix_layers(slab, (0, 0, 1), 0.5, [0, 2])\n",
    "print(slab)\n",
    "view_x3d_n(slab, bond = 1.0, label = True, output = 'htmls/lto-surface.html')"
   ]
  },
  {
   "source": [
    "Then build the Espresso calculator."
   ],
   "cell_type": "markdown",
   "metadata": {}
  },
  {
   "cell_type": "code",
   "execution_count": null,
   "metadata": {},
   "outputs": [],
   "source": [
    "# For this big bulk system, we use the \"empi\" partition\n",
    "queue = {'nodes': 4, 'ntasks-per-node': 20, 'partition': 'empi', 'mem-per-cpu': '5G', 'time': '23:59:00'}\n",
    "\n",
    "input_ntyp = {\n",
    "    'Hubbard_U': {'Ti': 3.0},\n",
    "    'starting_magnetization': {'Ti': 0.0}}\n",
    "\n",
    "calc = Espresso(label = 'surface/lto-010',\n",
    "                pseudopotentials = mypsudo,\n",
    "                calculation = 'relax',   # allow atoms to move\n",
    "                ecutwfc = 40,\n",
    "                occupations = 'smearing',\n",
    "                degauss = 0.01,\n",
    "                kpts = (2, 4, 1),        # k-points, \n",
    "                electron_maxstep = 200,\n",
    "                mixing_mode = 'local-TF',\n",
    "                nspin = 2,\n",
    "                lda_plus_u = True,\n",
    "                input_data = {'input_ntyp': input_ntyp},\n",
    "                queue = queue,\n",
    "                parallel = '-nk 5',)\n",
    "slab.calc = calc\n",
    "atoms.get_potential_energy()\n",
    "e = slab.calc.results['energy']\n",
    "print('Energy {0:3.3f}'.format(e))"
   ]
  },
  {
   "source": [
    "### 2. Molecular adsorption\n",
    "The La$_2$Ti$_2$O$_7$ surface exposes four undercoordinated La and four undercoordinated Ti atoms, surrounded by O atoms, that represent adsorption sites for the NH$_3$. Molecular NH$_3$ will adsorb on the surface in a lots of geometries. We will try the configurations with the N atoms about 1Å above the follwoing surface sites:\n",
    "\n",
    "* at the top site (La, Ti)\n",
    "* at the bridge site between La and Ti atoms\n",
    "\n",
    "Let's look at the La$_2$Ti$_2$O$_7$ surface again and chose approximate positions for the adsorption sites. Then add those position information to the `adsorbate_info` of the slab."
   ],
   "cell_type": "markdown",
   "metadata": {}
  },
  {
   "cell_type": "code",
   "execution_count": 29,
   "metadata": {},
   "outputs": [],
   "source": [
    "# set adsorption site on the slab\n",
    "slab_opt = slab.calc.results['atoms']\n",
    "positions = slab.get_scaled_positions()\n",
    "sites = {\n",
    "    'Ti-top': positions[74][0:2], # the (x, y) position of the atom 51 in the slab\n",
    "    # 'O-top': positions[75][0:2], \n",
    "    'La-top': positions[67][0:2], \n",
    "    'Ti-La-bridge': (positions[67][0:2] + positions[73][0:2])/2.0,  # bridge site between atom 67 and atom 73\n",
    "    }\n",
    "slab_opt.info['adsorbate_info'] = {'sites': sites}"
   ]
  },
  {
   "source": [
    "Is there other posible adsorption sites and geometries?\n",
    "\n",
    "Now we add NH$_3$ on the adsorption sites. Please check all configurations."
   ],
   "cell_type": "markdown",
   "metadata": {}
  },
  {
   "cell_type": "code",
   "execution_count": 36,
   "metadata": {},
   "outputs": [
    {
     "output_type": "stream",
     "name": "stdout",
     "text": [
      "Ti-top\nO-top\nLa-top\nTi-La-bridge\n"
     ]
    },
    {
     "output_type": "execute_result",
     "data": {
      "text/plain": [
       "<IPython.lib.display.IFrame at 0x7fac31ad36d0>"
      ],
      "text/html": "\n        <iframe\n            width=\"1000px\"\n            height=\"500px\"\n            src=\"htmls/Ti-La-bridge-N.html\"\n            frameborder=\"0\"\n            allowfullscreen\n        ></iframe>\n        "
     },
     "metadata": {},
     "execution_count": 36
    }
   ],
   "source": [
    "from ase.build import molecule, add_adsorbate\n",
    "nh3 = molecule('NH3')\n",
    "nh3.rotate(180, 'x') # rotate the molecule to make N atoms in the downside\n",
    "jobs = {}\n",
    "for site in slab.info['adsorbate_info']['sites']:\n",
    "    print(site)\n",
    "    atoms = slab_opt.copy()\n",
    "    add_adsorbate(atoms, nh3, 1.0, site, mol_index=0)\n",
    "    jobs[site] = atoms\n",
    "# We can check the structure \n",
    "view(jobs.values())\n",
    "site = 'Ti-top'\n",
    "view_x3d_n(jobs[site], bond = 1.0, label = True, output = 'htmls/%s-N.html'%site)"
   ]
  },
  {
   "source": [
    "\n",
    "Each calculation will take a long time, therefore we will not run the calculation one by one. Instead, a `mypool` function will be used to sumbit all the calculations at the same time, thus all jobs will run parallelly."
   ],
   "cell_type": "markdown",
   "metadata": {}
  },
  {
   "cell_type": "code",
   "execution_count": 15,
   "metadata": {},
   "outputs": [
    {
     "name": "stdout",
     "output_type": "stream",
     "text": [
      "Same geometry and parameters, try to check the results are available or not.\n",
      "top-top -11543.680\n",
      "Same geometry and parameters, try to check the results are available or not.\n",
      "top-fcc -11543.638\n"
     ]
    }
   ],
   "source": [
    "from xespresso import Espresso\n",
    "from xespresso.tools import mypool\n",
    "from pseudo import mypseudo\n",
    "\n",
    "\n",
    "queue = {'nodes': 4, 'ntasks-per-node': 20, 'partition': 'empi', 'mem-per-cpu': '5G', 'time': '23:59:00'}\n",
    "\n",
    "molecular_energies = {}\n",
    "# def a function to run a calculation for one site\n",
    "def run(job, atoms):\n",
    "    calc = Espresso(label = 'surface/nh3/%s'%job,\n",
    "                    pseudopotentials = mypsudo,\n",
    "                    calculation = 'relax',   # allow atoms to move\n",
    "                    ecutwfc = 40,\n",
    "                    occupations = 'smearing',\n",
    "                    degauss = 0.01,\n",
    "                    kpts = (2, 4, 1),        # k-points, \n",
    "                    electron_maxstep = 200,\n",
    "                    mixing_mode = 'local-TF',\n",
    "                    nspin = 2,\n",
    "                    lda_plus_u = True,\n",
    "                    input_data = {'input_ntyp': input_ntyp},\n",
    "                    queue = queue,\n",
    "                    parallel = '-nk 5',)\n",
    "    atoms.calc = calc\n",
    "    atoms.get_potential_energy()\n",
    "    e = atoms.calc.results['energy']\n",
    "    print('{0} {1:3.3f}'.format(site, e))\n",
    "    return job, calc\n",
    "# submit the calculation for all site at the same time\n",
    "mypool(jobs, run)"
   ]
  },
  {
   "cell_type": "markdown",
   "metadata": {},
   "source": [
    "### 4. Calculation the adsorption energy\n",
    "The adsorption energy is given by\n",
    "\n",
    "$\\Delta E_{ads} = E_{surf + ads} - (E_{surf} + E_{ads})$\n",
    "\n",
    "where $E_{surf + ads}$ is the energy of the surface with the adsorbate (NH$_3$), $E_{surf}$ is the energy of the clean surface and $E_{ads}$ is the energy of the adsorbate. A negative value means that there is an energy gain for adsorption, while a positive value means that adsorption is not energetically favorable."
   ]
  },
  {
   "cell_type": "code",
   "execution_count": 40,
   "metadata": {},
   "outputs": [
    {
     "name": "stdout",
     "output_type": "stream",
     "text": [
      "Sites     Adsorption energies (eV)\n",
      "top-top     -0.74\n",
      "top-fcc     -0.70\n"
     ]
    }
   ],
   "source": [
    "#=====================================================\n",
    "#  Molecular adsorption\n",
    "E_nh3 = ?\n",
    "E_lto = ?\n",
    "molecular_energies = {\n",
    "'Ti-top': ?,\n",
    "'O-top': ?,\n",
    "'La-top': ?,\n",
    "?\n",
    "?\n",
    "}\n",
    "print('Sites     Adsorption energies (eV)')\n",
    "for site, E_ads in molecular_energies.items():\n",
    "    dE_ads = E_ads - (E_lto + E_nh3)\n",
    "    print('{0:10s}  {1:1.2f}'.format(site, dE_ads))"
   ]
  }
 ],
 "metadata": {
  "kernelspec": {
   "display_name": "Python 3",
   "language": "python",
   "name": "python3"
  },
  "language_info": {
   "codemirror_mode": {
    "name": "ipython",
    "version": 3
   },
   "file_extension": ".py",
   "mimetype": "text/x-python",
   "name": "python",
   "nbconvert_exporter": "python",
   "pygments_lexer": "ipython3",
   "version": "3.8.5-final"
  }
 },
 "nbformat": 4,
 "nbformat_minor": 4
}